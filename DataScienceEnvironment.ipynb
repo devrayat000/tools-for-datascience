{
 "cells": [
  {
   "cell_type": "markdown",
   "id": "cf5e644f-0d9f-4784-984c-5ed1e0707834",
   "metadata": {},
   "source": [
    "# Data Science Tools and Ecosystem"
   ]
  },
  {
   "cell_type": "markdown",
   "id": "b1bb5028-9ccc-431f-89a1-954896094157",
   "metadata": {},
   "source": [
    "In this notebook, Data Science Tools and Ecosystem are summarized."
   ]
  },
  {
   "cell_type": "markdown",
   "id": "d21e445a-6f5c-41f4-9731-bf80155bed49",
   "metadata": {
    "tags": []
   },
   "source": [
    "Some of the popular languages that Data Scientists use are:\n",
    "1. Python\n",
    "2. R\n",
    "3. Julia\n",
    "4. SQL"
   ]
  },
  {
   "cell_type": "markdown",
   "id": "3820ba6f-2a92-45ba-846a-0a358dfc1652",
   "metadata": {},
   "source": [
    "Some of the commonly used libraries used by Data Scientists include:\n",
    "1. SciKit\n",
    "2. Matplotlib\n",
    "3. Numpy\n",
    "4. Scipy"
   ]
  },
  {
   "cell_type": "markdown",
   "id": "0e3b3ce5-fcd5-4b1e-9ac0-fbdf43474b3a",
   "metadata": {},
   "source": [
    "| Data Science Tools |\n",
    "|--------------------|\n",
    "| Apace Spark |\n",
    "| Jupyter Notebook |\n",
    "| R Studio |\n",
    "| IBM Watson |"
   ]
  },
  {
   "cell_type": "markdown",
   "id": "9fcf5a44-8666-4fa2-b42a-22f9c73db077",
   "metadata": {},
   "source": [
    "### Below are a few examples of evaluating arithmetic expressions in Python"
   ]
  },
  {
   "cell_type": "code",
   "execution_count": 3,
   "id": "9a7b9e53-404f-485e-8435-94c30d20b92c",
   "metadata": {
    "tags": []
   },
   "outputs": [
    {
     "data": {
      "text/plain": [
       "17"
      ]
     },
     "execution_count": 3,
     "metadata": {},
     "output_type": "execute_result"
    }
   ],
   "source": [
    "# This a simple arithmetic expression to mutiply then add integers\n",
    "(3 * 4) + 5"
   ]
  },
  {
   "cell_type": "code",
   "execution_count": 4,
   "id": "d6379425-22a2-4d87-9e82-7724d01b967c",
   "metadata": {
    "tags": []
   },
   "outputs": [
    {
     "data": {
      "text/plain": [
       "3.3333333333333335"
      ]
     },
     "execution_count": 4,
     "metadata": {},
     "output_type": "execute_result"
    }
   ],
   "source": [
    "# This will convert 200 minutes to hours by diving by 60\n",
    "200 / 60"
   ]
  },
  {
   "cell_type": "markdown",
   "id": "e3710bd4-30d0-4919-8357-b973a0843f14",
   "metadata": {},
   "source": [
    "__Objectives:__\n",
    "- List popular languages for Data Science\n",
    "- List popular Data Science Libraries\n",
    "- List popular Data Science Tools"
   ]
  },
  {
   "cell_type": "markdown",
   "id": "e9f262b5-d7ce-4e8f-b850-189ea28f32ce",
   "metadata": {},
   "source": [
    "## Author\n",
    "Zul Ikram Musaddik Rayat"
   ]
  },
  {
   "cell_type": "code",
   "execution_count": null,
   "id": "1c32c018-e8e1-49ab-bba9-b7833d240be2",
   "metadata": {},
   "outputs": [],
   "source": []
  }
 ],
 "metadata": {
  "kernelspec": {
   "display_name": "Python",
   "language": "python",
   "name": "conda-env-python-py"
  },
  "language_info": {
   "codemirror_mode": {
    "name": "ipython",
    "version": 3
   },
   "file_extension": ".py",
   "mimetype": "text/x-python",
   "name": "python",
   "nbconvert_exporter": "python",
   "pygments_lexer": "ipython3",
   "version": "3.7.12"
  }
 },
 "nbformat": 4,
 "nbformat_minor": 5
}
